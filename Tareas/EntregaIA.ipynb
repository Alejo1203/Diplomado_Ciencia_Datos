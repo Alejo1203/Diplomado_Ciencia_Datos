{
  "nbformat": 4,
  "nbformat_minor": 0,
  "metadata": {
    "colab": {
      "provenance": []
    },
    "kernelspec": {
      "name": "python3",
      "display_name": "Python 3"
    },
    "language_info": {
      "name": "python"
    }
  },
  "cells": [
    {
      "cell_type": "markdown",
      "source": [
        "[![Open In Colab](https://colab.research.google.com/assets/colab-badge.svg)](https://colab.research.google.com/github/Alejo1203/Diplomado_Ciencia_Datos/blob/main/Tareas/EntregaIA.ipynb)"
      ],
      "metadata": {
        "id": "EvH6twRp4fRd"
      }
    },
    {
      "cell_type": "markdown",
      "source": [
        "\n",
        "\n",
        "\n",
        "\n",
        "# PROPUESTA INTELIGENCIA ARTIFICAL"
      ],
      "metadata": {
        "id": "Bh5Y-kit9jA7"
      }
    },
    {
      "cell_type": "markdown",
      "source": [
        "Integrantes:  \n",
        "Jennyfer Andrea Niño   \n",
        "Sebastián Alejandro Lozano  \n",
        "Fredy Arley Urrea  "
      ],
      "metadata": {
        "id": "JcycPSTw9mn5"
      }
    },
    {
      "cell_type": "markdown",
      "source": [
        "Se diseñará un aplicativo que permita reconocer, a partir de imágenes, la cantidad de dinero, la moneda a la que pertenece (pesos colombianos, euros y dólares)  posteriormente las conversiones que desee el usuario.\n"
      ],
      "metadata": {
        "id": "q5sxkBP_-Eoo"
      }
    },
    {
      "cell_type": "markdown",
      "source": [
        "# Objetivo general"
      ],
      "metadata": {
        "id": "WPFCEor0Amg6"
      }
    },
    {
      "cell_type": "markdown",
      "source": [
        "Facilitar el reconocimiento de dinero a personas con discapacidad visual sin necesidad de la ayuda de terceros con el fin de manejar correctamente su dinero físico."
      ],
      "metadata": {
        "id": "7fqgPcNbBfuA"
      }
    },
    {
      "cell_type": "markdown",
      "source": [
        "# Objetivos específicos"
      ],
      "metadata": {
        "id": "Y1k7nnynCv2T"
      }
    },
    {
      "cell_type": "markdown",
      "source": [
        "1. Reconocer el tipo y cantidad de divisas a presentadas en una imagen."
      ],
      "metadata": {
        "id": "lLPkQgLmC1Jx"
      }
    },
    {
      "cell_type": "markdown",
      "source": [
        "2. Notificar al usuario a través de comandos de voz la cantidad de dinero que tiene"
      ],
      "metadata": {
        "id": "62GOIIhtDEfn"
      }
    },
    {
      "cell_type": "markdown",
      "source": [
        "3. Convertir el dinero a otras divisas a conveniencia del usuario.\n",
        "\n",
        "\n"
      ],
      "metadata": {
        "id": "Yznkkyf4DS-h"
      }
    }
  ]
}