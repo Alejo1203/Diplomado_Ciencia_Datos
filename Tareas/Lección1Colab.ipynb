{
  "cells": [
    {
      "cell_type": "markdown",
      "source": [
        "[![Open In Colab](https://colab.research.google.com/assets/colab-badge.svg)](https://colab.research.google.com/github/Alejo1203/Diplomado_Ciencia_Datos/blob/man/path/to/notebook.ipynb)"
      ],
      "metadata": {
        "id": "Tb5V6Rlmmnpb"
      },
      "id": "Tb5V6Rlmmnpb"
    },
    {
      "cell_type": "markdown",
      "id": "b0b529d2-afb1-4715-95c6-4ddd84157972",
      "metadata": {
        "id": "b0b529d2-afb1-4715-95c6-4ddd84157972"
      },
      "source": [
        "<center><h2 style=\"color:Blue\">Lección 1: Media Ponderada</h2></center>\n"
      ]
    },
    {
      "cell_type": "markdown",
      "id": "fe1c71d7-8f32-4c0e-9919-e5fcf8f66963",
      "metadata": {
        "id": "fe1c71d7-8f32-4c0e-9919-e5fcf8f66963"
      },
      "source": [
        "<p align=\"center\">\n",
        "  <img width=\"850\" height=\"200\" src=\"https://es.schoolofdata.org/files/2017/07/python-logo-master-v3-TM-flattened.png\">\n",
        "</p>"
      ]
    },
    {
      "cell_type": "markdown",
      "id": "c60b9be4-83b9-4f91-9880-07e7b89cc308",
      "metadata": {
        "id": "c60b9be4-83b9-4f91-9880-07e7b89cc308"
      },
      "source": [
        "<h3 style=\"color:red\"> Autor de la Lección<h3>  \n",
        "\n",
        "    \n",
        "    \n",
        "    "
      ]
    },
    {
      "cell_type": "markdown",
      "id": "8a5e498c-2abe-4bce-ab42-101d8257a80c",
      "metadata": {
        "id": "8a5e498c-2abe-4bce-ab42-101d8257a80c"
      },
      "source": [
        "<img width=\"270\" height=\"180\" src=\"https://github.com/Alejo1203/Diplomado_Ciencia_Datos/blob/main/Tareas/yo2.jpeg?raw=1\">\n",
        "\n",
        "Me llamó Sebastían Alejandro Lozano Rivera, me encuentro estudiando el pregrado de Estadística en la Universidad Nacional de Colombia.  Tengo habilidades básicas en Python, R y SAS, además de contar con experiencia en aplicaciones como Excel. He participado en varios grupos académicos dentro de la Universidad, siendo parte de la validación de supuestos estadísticos y colaborando con otros estudiantes y profesionales en el momento de desarrollar código. Actualmente hago parte del grupo GIDA participando en un proyecto de visión de máquina.\n",
        "\n"
      ]
    },
    {
      "cell_type": "markdown",
      "id": "b1a03b6c-1726-4208-9bcf-f58652bcb24c",
      "metadata": {
        "id": "b1a03b6c-1726-4208-9bcf-f58652bcb24c"
      },
      "source": [
        "<h3 style=\"color:red\"> Media ponderada<h3>  "
      ]
    },
    {
      "cell_type": "markdown",
      "id": "6cb16ce7-3905-48d5-a9fc-869d1753ff81",
      "metadata": {
        "id": "6cb16ce7-3905-48d5-a9fc-869d1753ff81"
      },
      "source": [
        "La media ponderada se trata de una medida de centralidad, si bien es similar a la media aritmética tanto en su uso como en su cálculo, esta se usa cuando en el conjunto de datos tienen “pesos” (es decir: existen datos más importantes que otros). Se calcula multiplicando cada uno de los datos por su ponderación (sus respectivos pesos) y sumando estos productos. Posteriormente a esta cantidad se la divide por la suma total de sus pesos. Se describe en una formula como sigue: \n"
      ]
    },
    {
      "cell_type": "markdown",
      "id": "457e5901-4825-42de-8777-b1363c548412",
      "metadata": {
        "id": "457e5901-4825-42de-8777-b1363c548412"
      },
      "source": [
        "$$ \\bar{x}=\\frac{\\sum_{i=1}^{n}x_iw_i}{\\sum_{i=1}^{n}w_i} = \\frac{x_1w_1+x_2w_2+x_3w_3+...+x_nw_n}{w_1+w_2+w_3+...w_n}$$ "
      ]
    },
    {
      "cell_type": "markdown",
      "id": "cfe25a20-e80c-4237-b0c3-7e696aed2d62",
      "metadata": {
        "id": "cfe25a20-e80c-4237-b0c3-7e696aed2d62"
      },
      "source": [
        "Donde $x_i$ y $w_i$ representa al _i-esimo dato_ y su _i-esimo peso_ respectivamente."
      ]
    },
    {
      "cell_type": "markdown",
      "id": "6bd68b72-cc40-42aa-a053-7b2c6b805839",
      "metadata": {
        "id": "6bd68b72-cc40-42aa-a053-7b2c6b805839"
      },
      "source": [
        "<h3 style=\"color:red\"> Ejemplo<h3>\n"
      ]
    },
    {
      "cell_type": "markdown",
      "id": "518cfe61-e136-4b9a-a913-0d6e79e9fcb8",
      "metadata": {
        "id": "518cfe61-e136-4b9a-a913-0d6e79e9fcb8"
      },
      "source": [
        "Suponga que un estudiante de la Universidad Nacional de Colombia en el pregrado de estadística desea calcular su P.A.P.A. a final de semestre. Teniendo en cuenta que las materias cursadas fueron: Fundamentos de matemáticas, Estadística descriptiva y exploratoria, Cálculo Diferencial y Español funcional, que sus notas finales fueron: 2.8, 4.0, 4.3 y 3.4 respectivamente y que adicionalmente la universidad cuenta con un sistema de créditos que le da un peso a cada materia, en este caso todas las materias son de 4 créditos exceptuando español funcional que cuenta con solo tres créditos.\n",
        "\n",
        "Con esta información el estudiante procede a calcular su P.A.P.A. de la siguiente manera: \n",
        "\n",
        "$$\\frac{2.8\\times 4+4.0 \\times 4+4.3 \\times3+3.4\\times4}{4+4+3+4}= \\frac{53.7}{15}=3.58$$\n",
        "\n",
        "El estudiante logro calcular su P.A.P.A. y sabe que debe mejorar su rendimiento académico el siguiente semestre."
      ]
    },
    {
      "cell_type": "markdown",
      "id": "e2434bf4-b19b-4417-b90c-e140efa6fc72",
      "metadata": {
        "id": "e2434bf4-b19b-4417-b90c-e140efa6fc72"
      },
      "source": [
        "<h4 style=\"color:red\"> Links:<h4>\n"
      ]
    },
    {
      "cell_type": "markdown",
      "id": "eaef3cea-4836-4af2-8ab2-3b9712ec31d1",
      "metadata": {
        "id": "eaef3cea-4836-4af2-8ab2-3b9712ec31d1"
      },
      "source": [
        "[¿Qué es una media ponderada?](https://d1wqtxts1xzle7.cloudfront.net/40859504/resumen_estadistica_2-libre.PDF?1450953381=&response-content-disposition=inline%3B+filename%3DResumen_estadistica_2_PDF.pdf&Expires=1676253287&Signature=JksJ6p4ik8CWqwKkwZksvfNHkZbr66uSXJWXlTU7y5OostOrpO3htItmW2YmNeqm0pdt8cxukKFJAYVoKKxfCC0oEgk9jL5NYw4Ak0rN8roK7FlfBcTVjWWjWD5yp1W1RDxN6eusKj8a7hjAxPbp4gxWcEANvdPUND4mJpgitAUZKUfy~ASW6pTmPcgyKR2HClCD3nBd1t6dEB39hu5tnGL4iiE7Ry~C1NjB-QSF5q6PA6fk99I7oKLuGbVf8shjtNu7KpjBBUK1LYd3wT9~pi-Gu5rN9OB0HEr7Dm9YDdDiiaMSLomtLMgL1UcDwAU34TPmL8WrIWx~9wkOg~8bCA__&Key-Pair-Id=APKAJLOHF5GGSLRBV4ZA)  \n",
        "[¿Cómo calcular un media ponderada(video)?](https://www.youtube.com/watch?v=7wtfhZwyrcc&list=RDTO-_3tck2tg&index=12)  \n",
        "[calculadora de media ponderada](https://www.youtube.com/watch?v=7wtfhZwyrcc&list=RDTO-_3tck2tg&index=12)  "
      ]
    }
  ],
  "metadata": {
    "kernelspec": {
      "display_name": "Python 3 (ipykernel)",
      "language": "python",
      "name": "python3"
    },
    "language_info": {
      "codemirror_mode": {
        "name": "ipython",
        "version": 3
      },
      "file_extension": ".py",
      "mimetype": "text/x-python",
      "name": "python",
      "nbconvert_exporter": "python",
      "pygments_lexer": "ipython3",
      "version": "3.9.7"
    },
    "colab": {
      "provenance": []
    }
  },
  "nbformat": 4,
  "nbformat_minor": 5
}