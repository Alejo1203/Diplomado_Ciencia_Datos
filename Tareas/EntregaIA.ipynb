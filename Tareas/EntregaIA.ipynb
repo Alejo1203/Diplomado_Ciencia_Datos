{
 "cells": [
  {
   "cell_type": "markdown",
   "metadata": {
    "id": "Bh5Y-kit9jA7"
   },
   "source": [
    "\n",
    "\n",
    "\n",
    "\n",
    "<center><h1>PROPUESTA INTELIGENCIA ARTIFICAL</h1></center>"
   ]
  },
  {
   "cell_type": "markdown",
   "metadata": {
    "id": "JcycPSTw9mn5"
   },
   "source": [
    "Integrantes:  \n",
    "Jennyfer Andrea Niño   \n",
    "Sebastián Alejandro Lozano  \n",
    "Fredy Arley Urrea  "
   ]
  },
  {
   "cell_type": "markdown",
   "metadata": {},
   "source": [
    "## Descripción ##"
   ]
  },
  {
   "cell_type": "markdown",
   "metadata": {
    "id": "q5sxkBP_-Eoo"
   },
   "source": [
    "Se diseñará un aplicativo que permita reconocer, a partir de imágenes, la cantidad de dinero, la moneda a la que pertenece (pesos colombianos, euros y dólares)  posteriormente las conversiones que desee el usuario.\n"
   ]
  },
  {
   "cell_type": "markdown",
   "metadata": {},
   "source": [
    "## Problema ##\n"
   ]
  },
  {
   "cell_type": "markdown",
   "metadata": {},
   "source": [
    "Consideramos como grupo que aquellas personas con algun tipo de discpacidad visual pueden tener inconvenientes a la hora de reconocer y usar distintos billetes, este problema se agrava cuando se maneja más de una divisa, por ejemplo si la persona ha decidido viajar. "
   ]
  },
  {
   "cell_type": "markdown",
   "metadata": {
    "id": "WPFCEor0Amg6"
   },
   "source": [
    "## Objetivo general ##"
   ]
  },
  {
   "cell_type": "markdown",
   "metadata": {
    "id": "7fqgPcNbBfuA"
   },
   "source": [
    "Facilitar el reconocimiento de dinero a personas con discapacidad visual sin necesidad de la ayuda de terceros con el fin de manejar correctamente su dinero físico."
   ]
  },
  {
   "cell_type": "markdown",
   "metadata": {
    "id": "Y1k7nnynCv2T"
   },
   "source": [
    "## Objetivos específicos ##\n"
   ]
  },
  {
   "cell_type": "markdown",
   "metadata": {
    "id": "lLPkQgLmC1Jx"
   },
   "source": [
    "1. Reconocer el tipo y cantidad de divisas a presentadas en una imagen.  \n",
    "2. Notificar al usuario a través de comandos de voz la cantidad de dinero que tiene  \n",
    "3. Convertir el dinero a otras divisas a conveniencia del usuario.  "
   ]
  },
  {
   "cell_type": "markdown",
   "metadata": {},
   "source": [
    "## Datos ##"
   ]
  },
  {
   "cell_type": "markdown",
   "metadata": {},
   "source": [
    "Dado que el proyecto consta de dos partes (el reconocimiento de las divisas y el asistente de voz) se requieren de dos tipos de datos distintos. Se necesitará un banco de imagenes de billetes de las distintas denominaciones para cada divisa, adicional se usará el software Loquendo alimentado por texto."
   ]
  },
  {
   "cell_type": "code",
   "execution_count": null,
   "metadata": {},
   "outputs": [],
   "source": []
  }
 ],
 "metadata": {
  "colab": {
   "provenance": []
  },
  "kernelspec": {
   "display_name": "Python 3 (ipykernel)",
   "language": "python",
   "name": "python3"
  },
  "language_info": {
   "codemirror_mode": {
    "name": "ipython",
    "version": 3
   },
   "file_extension": ".py",
   "mimetype": "text/x-python",
   "name": "python",
   "nbconvert_exporter": "python",
   "pygments_lexer": "ipython3",
   "version": "3.9.7"
  }
 },
 "nbformat": 4,
 "nbformat_minor": 4
}
