{
 "cells": [
  {
   "cell_type": "code",
   "execution_count": 2,
   "id": "26806074",
   "metadata": {},
   "outputs": [],
   "source": [
    "import numpy as np\n",
    "import pandas as pd\n",
    "import matplotlib.pyplot as plt"
   ]
  },
  {
   "cell_type": "code",
   "execution_count": 35,
   "id": "1b69f88a",
   "metadata": {},
   "outputs": [],
   "source": [
    "class EstadisticasDato:\n",
    "    def __init__(self, datos):\n",
    "        self.df = pd.read_csv(datos)\n",
    "        \n",
    "    def __estadisticas_descriptivas__(self):\n",
    "        return self.df.describe()\n",
    "    \n",
    "    def __nombres_variables__(self):\n",
    "        return self.df.columns.tolist()\n",
    "    \n",
    "    def __estadisticas_variable__(self, variable):\n",
    "        if variable not in self.df.columns:\n",
    "            raise ValueError(\"LA VARIABLE ESPECIFICADA NO HACE PARTE DEL DATAFRAME\")\n",
    "            \n",
    "        variable = self.df[variable]\n",
    "        stats = variable.describe()\n",
    "\n",
    "        plt.hist(variable, bins='auto')\n",
    "        plt.xlabel(variable.name)\n",
    "        plt.ylabel('Frecuencia')\n",
    "        plt.title(f'Histograma de {variable.name}')\n",
    "        plt.show()\n",
    "        \n",
    "        return stats"
   ]
  },
  {
   "cell_type": "code",
   "execution_count": 36,
   "id": "ff9e9932",
   "metadata": {},
   "outputs": [
    {
     "name": "stdout",
     "output_type": "stream",
     "text": [
      "['sepal.length', 'sepal.width', 'petal.length', 'petal.width', 'variety']\n"
     ]
    }
   ],
   "source": [
    "Iris = EstadisticasDato(\"Iris.csv\")\n",
    "print(Iris.__nombres_variables__())\n"
   ]
  },
  {
   "cell_type": "code",
   "execution_count": 37,
   "id": "d6fcd9fb",
   "metadata": {},
   "outputs": [
    {
     "name": "stdout",
     "output_type": "stream",
     "text": [
      "       sepal.length  sepal.width  petal.length  petal.width\n",
      "count    150.000000   150.000000    150.000000   150.000000\n",
      "mean       5.843333     3.057333      3.758000     1.199333\n",
      "std        0.828066     0.435866      1.765298     0.762238\n",
      "min        4.300000     2.000000      1.000000     0.100000\n",
      "25%        5.100000     2.800000      1.600000     0.300000\n",
      "50%        5.800000     3.000000      4.350000     1.300000\n",
      "75%        6.400000     3.300000      5.100000     1.800000\n",
      "max        7.900000     4.400000      6.900000     2.500000\n"
     ]
    }
   ],
   "source": [
    "print(Iris.__estadisticas_descriptivas__())"
   ]
  },
  {
   "cell_type": "code",
   "execution_count": 38,
   "id": "57e677e6",
   "metadata": {},
   "outputs": [
    {
     "data": {
      "image/png": "[encoded data removed]",
      "text/plain": [
       "<Figure size 432x288 with 1 Axes>"
      ]
     },
     "metadata": {
      "needs_background": "light"
     },
     "output_type": "display_data"
    },
    {
     "name": "stdout",
     "output_type": "stream",
     "text": [
      "count    150.000000\n",
      "mean       5.843333\n",
      "std        0.828066\n",
      "min        4.300000\n",
      "25%        5.100000\n",
      "50%        5.800000\n",
      "75%        6.400000\n",
      "max        7.900000\n",
      "Name: sepal.length, dtype: float64\n"
     ]
    }
   ],
   "source": [
    "print(Iris.__estadisticas_variable__(\"sepal.length\"))"
   ]
  }
 ],
 "metadata": {
  "kernelspec": {
   "display_name": "Python 3 (ipykernel)",
   "language": "python",
   "name": "python3"
  },
  "language_info": {
   "codemirror_mode": {
    "name": "ipython",
    "version": 3
   },
   "file_extension": ".py",
   "mimetype": "text/x-python",
   "name": "python",
   "nbconvert_exporter": "python",
   "pygments_lexer": "ipython3",
   "version": "3.9.7"
  }
 },
 "nbformat": 4,
 "nbformat_minor": 5
}
