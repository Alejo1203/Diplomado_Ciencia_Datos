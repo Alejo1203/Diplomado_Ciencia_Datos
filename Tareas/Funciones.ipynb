{
 "cells": [
  {
   "cell_type": "code",
   "execution_count": 32,
   "id": "d518d010-3d88-4ca0-b9c0-81080cc3a73d",
   "metadata": {},
   "outputs": [],
   "source": [
    "import pandas as pd"
   ]
  },
  {
   "cell_type": "markdown",
   "id": "b054fe4e-8fce-4f53-a1ed-abcaa9e3bfdf",
   "metadata": {
    "tags": []
   },
   "source": [
    "## Función Edad ##"
   ]
  },
  {
   "cell_type": "code",
   "execution_count": 33,
   "id": "b16e179f-fd7f-4f47-bfaa-c37bc3902b72",
   "metadata": {},
   "outputs": [],
   "source": [
    "from datetime import datetime\n",
    "from datetime import date"
   ]
  },
  {
   "cell_type": "code",
   "execution_count": 34,
   "id": "e0855a01-1e8e-441c-8908-46c7ec006a0d",
   "metadata": {},
   "outputs": [],
   "source": [
    "def EdadActual(Fnacimiento):\n",
    "    Factual = date.today()\n",
    "    Edad = Factual.year-Fnacimiento.year\n",
    "    Edad -= (Factual.month,Factual.day) < (Fnacimiento.month, Fnacimiento.day)\n",
    "    return Edad"
   ]
  },
  {
   "cell_type": "code",
   "execution_count": 47,
   "id": "7915dbc1-1cb2-4a1d-ae5e-3209f0876f16",
   "metadata": {},
   "outputs": [
    {
     "data": {
      "text/plain": [
       "32"
      ]
     },
     "execution_count": 47,
     "metadata": {},
     "output_type": "execute_result"
    }
   ],
   "source": [
    "Fnacimiento = date(1990, 9, 4)\n",
    "EdadActual(Fnacimiento)"
   ]
  },
  {
   "cell_type": "code",
   "execution_count": 44,
   "id": "1c806245-d3e4-4055-b068-d96a876117d8",
   "metadata": {},
   "outputs": [],
   "source": [
    "datos = pd.read_table(\"athletes.csv\",delimiter=\",\",header=0,\n",
    "                      usecols=[0,3],parse_dates=[\"birth_date\"])"
   ]
  },
  {
   "cell_type": "code",
   "execution_count": 45,
   "id": "e53b7255-97ef-4020-ac22-e10d87060034",
   "metadata": {},
   "outputs": [
    {
     "name": "stdout",
     "output_type": "stream",
     "text": [
      "<class 'pandas.core.frame.DataFrame'>\n",
      "RangeIndex: 2897 entries, 0 to 2896\n",
      "Data columns (total 2 columns):\n",
      " #   Column      Non-Null Count  Dtype         \n",
      "---  ------      --------------  -----         \n",
      " 0   name        2897 non-null   object        \n",
      " 1   birth_date  2885 non-null   datetime64[ns]\n",
      "dtypes: datetime64[ns](1), object(1)\n",
      "memory usage: 45.4+ KB\n",
      "                   name birth_date\n",
      "0        AAGAARD Mikkel 1995-10-18\n",
      "1           AALTO Antti 1995-04-02\n",
      "2         AALTONEN Miro 1993-06-07\n",
      "3     ABDELKADER Justin 1987-02-25\n",
      "4            ABDI Fayik 1997-10-07\n",
      "...                 ...        ...\n",
      "2892       ZUREK Damian 1999-09-17\n",
      "2893      ZUYEVA Maryna 1992-03-20\n",
      "2894        ZUZIN Peter 1990-09-04\n",
      "2895     ZVEJNIEKS Miks 1995-03-08\n",
      "2896         ZYLA Piotr 1987-01-16\n",
      "\n",
      "[2897 rows x 2 columns]\n"
     ]
    }
   ],
   "source": [
    "datos.info()\n",
    "print(datos)"
   ]
  },
  {
   "cell_type": "code",
   "execution_count": 46,
   "id": "d0c7cc19-4a9b-4dc5-81c8-5d8f5b454d29",
   "metadata": {},
   "outputs": [
    {
     "name": "stdout",
     "output_type": "stream",
     "text": [
      "                   name birth_date   age\n",
      "0        AAGAARD Mikkel 1995-10-18  27.0\n",
      "1           AALTO Antti 1995-04-02  27.0\n",
      "2         AALTONEN Miro 1993-06-07  29.0\n",
      "3     ABDELKADER Justin 1987-02-25  35.0\n",
      "4            ABDI Fayik 1997-10-07  25.0\n",
      "...                 ...        ...   ...\n",
      "2892       ZUREK Damian 1999-09-17  23.0\n",
      "2893      ZUYEVA Maryna 1992-03-20  30.0\n",
      "2894        ZUZIN Peter 1990-09-04  32.0\n",
      "2895     ZVEJNIEKS Miks 1995-03-08  27.0\n",
      "2896         ZYLA Piotr 1987-01-16  36.0\n",
      "\n",
      "[2897 rows x 3 columns]\n"
     ]
    }
   ],
   "source": [
    "datos[\"age\"] = datos[\"birth_date\"].apply(EdadActual)\n",
    "print(datos)"
   ]
  },
  {
   "cell_type": "markdown",
   "id": "a2f05e45-a7d6-4515-ba33-f7c886fed073",
   "metadata": {
    "tags": []
   },
   "source": [
    "## Función EscribirCentrado ##\n"
   ]
  },
  {
   "cell_type": "code",
   "execution_count": 16,
   "id": "fd358016-c7c0-470c-b795-2bfaed4f8ee1",
   "metadata": {},
   "outputs": [
    {
     "name": "stdin",
     "output_type": "stream",
     "text": [
      "ingrese una cadena de texto:  esto es un texto\n"
     ]
    },
    {
     "data": {
      "text/plain": [
       "'                                esto es un texto                                '"
      ]
     },
     "execution_count": 16,
     "metadata": {},
     "output_type": "execute_result"
    }
   ],
   "source": [
    "texto = input(\"ingrese una cadena de texto: \")\n",
    "texto.center(80)"
   ]
  },
  {
   "cell_type": "markdown",
   "id": "79f473a5-2d77-4fe6-8fba-311bf092c803",
   "metadata": {},
   "source": [
    "## Función multiplo ##"
   ]
  },
  {
   "cell_type": "code",
   "execution_count": 110,
   "id": "00a2a624-f1a1-4b7b-88f9-f0177525bdbb",
   "metadata": {},
   "outputs": [],
   "source": [
    "def multiplo(a,b):\n",
    "    valor = (a % b == 0)|(b % a == 0)\n",
    "    if valor == False:\n",
    "        print(\"ninguno de los dos números es múltiplo de otro\")\n",
    "    else:\n",
    "        if a % b == 0:\n",
    "            print(str(a) + \" es multiplo de \" + str(b))\n",
    "        if b % a == 0:\n",
    "            print(str(b) + \" es multiplo de \" + str(a))"
   ]
  },
  {
   "cell_type": "code",
   "execution_count": 111,
   "id": "82509a16-f311-4687-9f9e-d91017033657",
   "metadata": {},
   "outputs": [
    {
     "name": "stdin",
     "output_type": "stream",
     "text": [
      "Ingrese el primer número entero:  12\n",
      "Ingrese el segundo número entero:  6\n"
     ]
    },
    {
     "name": "stdout",
     "output_type": "stream",
     "text": [
      "12 es multiplo de 6\n"
     ]
    }
   ],
   "source": [
    "a = input(\"Ingrese el primer número entero: \")\n",
    "b = input(\"Ingrese el segundo número entero: \")\n",
    "a2 = int(a)\n",
    "b2 = int(b)\n",
    "multiplo(a2,b2)"
   ]
  },
  {
   "cell_type": "markdown",
   "id": "0961e7a5-d7e4-4c5e-9534-b2977c109b17",
   "metadata": {},
   "source": [
    "## Media de temperaturas ##"
   ]
  },
  {
   "cell_type": "code",
   "execution_count": 127,
   "id": "e4a31e20-eb48-49c2-9885-b333966ccb76",
   "metadata": {},
   "outputs": [],
   "source": [
    "def tempMedia(temp):\n",
    "    a = sum(temp)/len(temp)\n",
    "    print(\"la temperatura media es \" + str(a) + \" grados centigrados\")"
   ]
  },
  {
   "cell_type": "code",
   "execution_count": 142,
   "id": "c37155b8-2c1d-4044-ae55-75a3bdda70bc",
   "metadata": {},
   "outputs": [
    {
     "name": "stdout",
     "output_type": "stream",
     "text": [
      "la temperatura media es 16.791666666666668 grados centigrados\n"
     ]
    }
   ],
   "source": [
    "import random \n",
    "\n",
    "lista = [0]  * 24\n",
    "for i in range(24):\n",
    "    lista[i] = random.randint(5, 25)\n",
    "\n",
    "temperatura=lista\n",
    "tempMedia(temperatura)"
   ]
  },
  {
   "cell_type": "markdown",
   "id": "6eb4ce23-0a52-4821-b7f5-a30198657be0",
   "metadata": {},
   "source": [
    "## Función ConvertirEspaciado ##"
   ]
  },
  {
   "cell_type": "code",
   "execution_count": 153,
   "id": "18d9f624-0320-433c-8884-0e6a65fbb4b6",
   "metadata": {},
   "outputs": [],
   "source": [
    "def ConvertirEspaciado(text):\n",
    "    text2 = \" \".join(text)\n",
    "    print(text2)"
   ]
  },
  {
   "cell_type": "code",
   "execution_count": 156,
   "id": "8e2cd3bd-b035-4f88-9f45-b66d936ee67d",
   "metadata": {},
   "outputs": [
    {
     "name": "stdin",
     "output_type": "stream",
     "text": [
      "por favor ingrese el texto a separar:  Hola mundo!\n"
     ]
    },
    {
     "name": "stdout",
     "output_type": "stream",
     "text": [
      "H o l a   m u n d o !\n"
     ]
    }
   ],
   "source": [
    "text = input(\"por favor ingrese el texto a separar: \")\n",
    "ConvertirEspaciado(text)"
   ]
  },
  {
   "cell_type": "markdown",
   "id": "a3384793-fa9c-4a3f-9a31-cdbf8b714dd9",
   "metadata": {},
   "source": [
    "## Función calcularMaxMin ##"
   ]
  },
  {
   "cell_type": "code",
   "execution_count": 163,
   "id": "0b379a2f-82a4-46d5-b083-d3705ca00a22",
   "metadata": {},
   "outputs": [
    {
     "name": "stdout",
     "output_type": "stream",
     "text": [
      "Ingrese cuantos numeros aleatorios desea obtener\n"
     ]
    },
    {
     "name": "stdin",
     "output_type": "stream",
     "text": [
      " 20\n"
     ]
    },
    {
     "name": "stdout",
     "output_type": "stream",
     "text": [
      "[292, 360, 966, 631, 312, 33, 73, 57, 483, 690, 690, 106, 725, 754, 363, 667, 928, 615, 521, 97]\n"
     ]
    }
   ],
   "source": [
    "def listaAleatorios(n):\n",
    "      lista = [0]  * n\n",
    "      for i in range(n):\n",
    "          lista[i] = random.randint(0, 1000)\n",
    "      return lista\n",
    "\n",
    "print(\"Ingrese cuantos numeros aleatorios desea obtener\")\n",
    "n=int(input())\n",
    "\n",
    "aleatorios=listaAleatorios(n)\n",
    "print(aleatorios)"
   ]
  },
  {
   "cell_type": "code",
   "execution_count": 165,
   "id": "7879d0ae-ed9d-4102-9732-ffab73ec8d33",
   "metadata": {},
   "outputs": [
    {
     "name": "stdout",
     "output_type": "stream",
     "text": [
      "La lista es  [292, 360, 966, 631, 312, 33, 73, 57, 483, 690, 690, 106, 725, 754, 363, 667, 928, 615, 521, 97]\n",
      "El número mayor es  966\n",
      "El número menor es  33\n"
     ]
    }
   ],
   "source": [
    "def mayor(lista):\n",
    "    max = lista[0];\n",
    "    for x in lista:\n",
    "        if x > max:\n",
    "            max = x\n",
    "    return max    \n",
    " \n",
    "def menor(lista):\n",
    "    min = lista[0];\n",
    "    for x in lista:\n",
    "        if x < min:\n",
    "            min = x\n",
    "    return min\n",
    " \n",
    "def main(lista):\n",
    "    print (\"La lista es \", lista)\n",
    "    print (\"El número mayor es \", mayor(lista))\n",
    "    print (\"El número menor es \", menor(lista))\n",
    " \n",
    "main(aleatorios)"
   ]
  },
  {
   "cell_type": "markdown",
   "id": "e59ecab6-15ad-4c40-a2e8-c8634bb6f629",
   "metadata": {},
   "source": [
    "## Área y perimetro de una circunferencia ##"
   ]
  },
  {
   "cell_type": "code",
   "execution_count": 160,
   "id": "780f271a-d803-44cd-94f1-f238f3c24730",
   "metadata": {},
   "outputs": [],
   "source": [
    "import numpy as np\n",
    "pi = np.pi\n",
    "def circunferencia(r):\n",
    "    A = pi *r*r\n",
    "    P = 2*pi*r\n",
    "    print(\"El área de la circunferencia es \" + str(A))\n",
    "    print(\"El perimetro de la circunferencia es \" + str(P))"
   ]
  },
  {
   "cell_type": "code",
   "execution_count": 152,
   "id": "f87c9e0a-83b4-4a47-aa49-a4d365d7c472",
   "metadata": {},
   "outputs": [
    {
     "name": "stdin",
     "output_type": "stream",
     "text": [
      "Por favor ingrese el radio de su circunferencia  4\n"
     ]
    },
    {
     "name": "stdout",
     "output_type": "stream",
     "text": [
      "El área de la circunferencia es 50.26548245743669\n",
      "El perimetro de la circunferencia es 25.132741228718345\n"
     ]
    }
   ],
   "source": [
    "r = input(\"Por favor ingrese el radio de su circunferencia \")\n",
    "r2 = float(r)\n",
    "circunferencia(r2)"
   ]
  },
  {
   "cell_type": "markdown",
   "id": "8b7ed8dc-782b-4b6b-9314-5725c112526d",
   "metadata": {},
   "source": [
    "## Función Login ##\n"
   ]
  },
  {
   "cell_type": "code",
   "execution_count": 181,
   "id": "03b4122d-e444-48f4-906e-e038ac189afb",
   "metadata": {},
   "outputs": [],
   "source": [
    "def login():\n",
    "    n = 0\n",
    "    usuario = input(\"por favor ingrese su usario: \")\n",
    "    clave = input(\"por favor ingrese su contraseña: \")\n",
    "    login = (usuario == \"usuario1\")&(clave == \"asdasd\")\n",
    "    while login == False:\n",
    "        n = n+1\n",
    "        print(\"Usuario o contraseña son incorrectos, intentelo nuevamente\")\n",
    "        print(\"lleva \" + str(n)+ \" fallidos\")\n",
    "        usuario = input(\"por favor ingrese su usario: \")\n",
    "        clave = input(\"por favor ingrese su contraseña: \")\n",
    "        login = (usuario == \"usuario1\")&(clave == \"asdasd\")\n",
    "    else:\n",
    "        print(\"usuario y contraseña son correctos\")"
   ]
  },
  {
   "cell_type": "code",
   "execution_count": null,
   "id": "9c316073-7709-4edb-8e1c-d60b41c7d9b7",
   "metadata": {},
   "outputs": [],
   "source": [
    "login()"
   ]
  },
  {
   "cell_type": "markdown",
   "id": "0c2ed6a6-5f31-4207-9d26-e16c65eb0496",
   "metadata": {},
   "source": [
    "## Función Factorial ##\n"
   ]
  },
  {
   "cell_type": "code",
   "execution_count": 2,
   "id": "bb5e2fde-d36f-492d-8e3f-0147cfe00f93",
   "metadata": {},
   "outputs": [],
   "source": [
    "def factorial(n):\n",
    "   if n==0 or n==1:\n",
    "            resultado=1\n",
    "   elif n>1:\n",
    "            resultado=n*factorial(n-1)\n",
    "   return resultado"
   ]
  },
  {
   "cell_type": "code",
   "execution_count": 3,
   "id": "0b930870-6c06-4f6b-9acc-857f5da083b2",
   "metadata": {},
   "outputs": [
    {
     "data": {
      "text/plain": [
       "40320"
      ]
     },
     "execution_count": 3,
     "metadata": {},
     "output_type": "execute_result"
    }
   ],
   "source": [
    "factorial(8)"
   ]
  },
  {
   "cell_type": "markdown",
   "id": "ede378c9-3de1-4260-8835-f66d451b91be",
   "metadata": {},
   "source": [
    "## Función tiempo ##\n"
   ]
  },
  {
   "cell_type": "code",
   "execution_count": 7,
   "id": "c041de16-645e-4c51-9270-901ca901bfb2",
   "metadata": {},
   "outputs": [],
   "source": [
    "def segundos_a_segundos_minutos_y_horas():\n",
    "    seg = input(\"ingrese la cantidad de segundos \")\n",
    "    segundos = int(seg)\n",
    "    horas = int(segundos / 60 / 60)\n",
    "    segundos -= horas*60*60\n",
    "    minutos = int(segundos/60)\n",
    "    segundos -= minutos*60\n",
    "    return f\"{horas:02d}:{minutos:02d}:{segundos:02d}\""
   ]
  },
  {
   "cell_type": "code",
   "execution_count": 10,
   "id": "de2f477c-9727-46d0-a161-5d6f64fdc1bd",
   "metadata": {},
   "outputs": [
    {
     "name": "stdin",
     "output_type": "stream",
     "text": [
      "ingrese la cantidad de segundos  13800\n"
     ]
    },
    {
     "data": {
      "text/plain": [
       "'03:50:00'"
      ]
     },
     "execution_count": 10,
     "metadata": {},
     "output_type": "execute_result"
    }
   ],
   "source": [
    "segundos_a_segundos_minutos_y_horas()"
   ]
  },
  {
   "cell_type": "markdown",
   "id": "8ed30735-044c-4861-b3b1-9047935c1610",
   "metadata": {},
   "source": [
    "## Función invertir tuplas ##"
   ]
  },
  {
   "cell_type": "code",
   "execution_count": 10,
   "id": "3cb4bff4-8025-4483-bb23-9bf9e0b270b5",
   "metadata": {},
   "outputs": [],
   "source": [
    "tup2 = (1,\"John\", True, -23.1)\n",
    "tup3 = (1,2,3)"
   ]
  },
  {
   "cell_type": "code",
   "execution_count": 7,
   "id": "8e9a8745-9b0d-4ec7-882a-f67a8b392dcd",
   "metadata": {},
   "outputs": [],
   "source": [
    "def invtupla(tupla):\n",
    "    tupla2 = tupla[::-1]\n",
    "    print(tupla2)"
   ]
  },
  {
   "cell_type": "code",
   "execution_count": 11,
   "id": "76a31a47-e34d-48f3-addf-4c93e14b20be",
   "metadata": {},
   "outputs": [
    {
     "name": "stdout",
     "output_type": "stream",
     "text": [
      "(-23.1, True, 'John', 1)\n",
      "(3, 2, 1)\n"
     ]
    }
   ],
   "source": [
    "invtupla(tup2)\n",
    "invtupla(tup3)"
   ]
  },
  {
   "cell_type": "markdown",
   "id": "a6c75c00-4f54-4ef8-b253-01d0a550747b",
   "metadata": {},
   "source": [
    "## Función media geometrica ##\n"
   ]
  },
  {
   "cell_type": "code",
   "execution_count": 22,
   "id": "f3d3e80a-a9e5-4c91-beb9-2ceff7a4216d",
   "metadata": {},
   "outputs": [],
   "source": [
    "import functools\n",
    "import operator    "
   ]
  },
  {
   "cell_type": "code",
   "execution_count": 25,
   "id": "727a7baf-3c7b-4277-a404-32c7208ce1fa",
   "metadata": {},
   "outputs": [],
   "source": [
    "def mediageom(lista):\n",
    "    n = len(lista)\n",
    "    x = functools.reduce(lambda a, b: a*b, lista)\n",
    "    tot = pow(x,1/n)\n",
    "    return tot"
   ]
  },
  {
   "cell_type": "code",
   "execution_count": 27,
   "id": "a754f7ae-9e8e-4571-9fff-2e8e0e463d21",
   "metadata": {},
   "outputs": [
    {
     "data": {
      "text/plain": [
       "2.605171084697352"
      ]
     },
     "execution_count": 27,
     "metadata": {},
     "output_type": "execute_result"
    }
   ],
   "source": [
    "lista = (1,2,3,4,5)\n",
    "mediageom(lista)"
   ]
  }
 ],
 "metadata": {
  "kernelspec": {
   "display_name": "Python 3 (ipykernel)",
   "language": "python",
   "name": "python3"
  },
  "language_info": {
   "codemirror_mode": {
    "name": "ipython",
    "version": 3
   },
   "file_extension": ".py",
   "mimetype": "text/x-python",
   "name": "python",
   "nbconvert_exporter": "python",
   "pygments_lexer": "ipython3",
   "version": "3.9.7"
  }
 },
 "nbformat": 4,
 "nbformat_minor": 5
}
